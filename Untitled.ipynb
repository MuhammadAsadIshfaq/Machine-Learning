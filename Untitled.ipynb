{
 "cells": [
  {
   "cell_type": "code",
   "execution_count": 1,
   "id": "c0b86a63",
   "metadata": {},
   "outputs": [
    {
     "name": "stdout",
     "output_type": "stream",
     "text": [
      "Enter Startpoor\n",
      "Enter incomehigh\n",
      "Enter Term5years\n",
      "safe\n"
     ]
    }
   ],
   "source": [
    "credit = input(\"Enter Start\")\n",
    "if credit == \"excellent\":\n",
    "    print(\"Safe\")\n",
    "elif credit == \"fair\":\n",
    "    term = input(\"Enter Term\")\n",
    "    if term == \"5years\":\n",
    "        print(\"safe\")\n",
    "    elif term == \"3years\":\n",
    "        print(\"risky\")\n",
    "elif credit == \"poor\":\n",
    "    income = input(\"Enter income\")\n",
    "    if income == \"high\":\n",
    "        term = input(\"Enter Term\")\n",
    "        if term == \"5years\":\n",
    "            print(\"safe\")\n",
    "        elif term == \"3years\":\n",
    "            print(\"risky\")\n",
    "    elif income ==   \"Low\":\n",
    "        print(\"Risky\")  "
   ]
  },
  {
   "cell_type": "code",
   "execution_count": null,
   "id": "bcc30806",
   "metadata": {},
   "outputs": [],
   "source": []
  }
 ],
 "metadata": {
  "kernelspec": {
   "display_name": "Python 3 (ipykernel)",
   "language": "python",
   "name": "python3"
  },
  "language_info": {
   "codemirror_mode": {
    "name": "ipython",
    "version": 3
   },
   "file_extension": ".py",
   "mimetype": "text/x-python",
   "name": "python",
   "nbconvert_exporter": "python",
   "pygments_lexer": "ipython3",
   "version": "3.9.7"
  }
 },
 "nbformat": 4,
 "nbformat_minor": 5
}
