{
 "cells": [
  {
   "cell_type": "code",
   "execution_count": 2,
   "id": "75a5d7bd",
   "metadata": {},
   "outputs": [],
   "source": [
    "import numpy as np\n",
    "import pandas as pd\n",
    "import matplotlib.pyplot as plt"
   ]
  },
  {
   "cell_type": "code",
   "execution_count": 3,
   "id": "7b1579ed",
   "metadata": {},
   "outputs": [],
   "source": [
    "positive = np.array([[4, 0], [5, 1], [5, -1], [6, 0]])\n",
    "negative = np.array([[1, 1], [2, 1], [1, -1], [2, -1]])"
   ]
  },
  {
   "cell_type": "code",
   "execution_count": 5,
   "id": "52c44661",
   "metadata": {},
   "outputs": [
    {
     "data": {
      "image/png": "[encoded data removed]",
      "text/plain": [
       "<Figure size 432x288 with 1 Axes>"
      ]
     },
     "metadata": {
      "needs_background": "light"
     },
     "output_type": "display_data"
    }
   ],
   "source": [
    "plt.scatter(positive[:, 0], positive[:, 1], c='b', label='Positive')\n",
    "plt.scatter(negative[:, 0], negative[:, 1], c='r', label='Negative')\n",
    "\n",
    "plt.title('Scatter Plot of Positive and Negative Data')\n",
    "plt.xlabel('X-axis')\n",
    "plt.ylabel('Y-axis')\n",
    "plt.legend()\n",
    "plt.grid(True)\n",
    "plt.show()"
   ]
  },
  {
   "cell_type": "code",
   "execution_count": 15,
   "id": "ff7bf1f0",
   "metadata": {},
   "outputs": [],
   "source": [
    "# D = ( x 2 − x 1 ) 2 + ( y 2 − y 1 ) 2"
   ]
  },
  {
   "cell_type": "code",
   "execution_count": 18,
   "id": "c1ebe07a",
   "metadata": {},
   "outputs": [
    {
     "name": "stdout",
     "output_type": "stream",
     "text": [
      "4\n",
      "4\n"
     ]
    }
   ],
   "source": [
    "\n",
    "length=len(negative)\n",
    "print(length)\n",
    "Dist = np.empty((length,length), int)\n",
    "\n",
    "print(length)"
   ]
  },
  {
   "cell_type": "code",
   "execution_count": null,
   "id": "dec34a92",
   "metadata": {},
   "outputs": [],
   "source": []
  }
 ],
 "metadata": {
  "kernelspec": {
   "display_name": "Python 3 (ipykernel)",
   "language": "python",
   "name": "python3"
  },
  "language_info": {
   "codemirror_mode": {
    "name": "ipython",
    "version": 3
   },
   "file_extension": ".py",
   "mimetype": "text/x-python",
   "name": "python",
   "nbconvert_exporter": "python",
   "pygments_lexer": "ipython3",
   "version": "3.9.7"
  }
 },
 "nbformat": 4,
 "nbformat_minor": 5
}
