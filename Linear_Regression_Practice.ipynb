{
 "cells": [
  {
   "cell_type": "code",
   "execution_count": 112,
   "id": "9b13eb3c",
   "metadata": {},
   "outputs": [],
   "source": [
    "import pandas as pd\n",
    "import numpy as np\n",
    "import matplotlib.pyplot as plt\n",
    "import sklearn\n",
    "import random\n",
    "from sklearn.linear_model import LinearRegression"
   ]
  },
  {
   "cell_type": "code",
   "execution_count": 183,
   "id": "f2216123",
   "metadata": {
    "scrolled": true
   },
   "outputs": [],
   "source": [
    "# X = np.random.randn(100)\n",
    "# y = 10 + 9 * x "
   ]
  },
  {
   "cell_type": "code",
   "execution_count": 184,
   "id": "b9348bdb",
   "metadata": {},
   "outputs": [],
   "source": [
    "# X = np.array(X).reshape(-1,1)\n",
    "# y = np.array(y)\n",
    "# X\n"
   ]
  },
  {
   "cell_type": "code",
   "execution_count": 185,
   "id": "b613bf78",
   "metadata": {},
   "outputs": [],
   "source": [
    "# model = LinearRegression()"
   ]
  },
  {
   "cell_type": "code",
   "execution_count": 186,
   "id": "598605fb",
   "metadata": {},
   "outputs": [
    {
     "data": {
      "text/plain": [
       "LinearRegression()"
      ]
     },
     "execution_count": 186,
     "metadata": {},
     "output_type": "execute_result"
    }
   ],
   "source": [
    "# model.fit(X,y)"
   ]
  },
  {
   "cell_type": "code",
   "execution_count": 187,
   "id": "613439b2",
   "metadata": {},
   "outputs": [
    {
     "data": {
      "text/plain": [
       "array([52.1053217])"
      ]
     },
     "execution_count": 187,
     "metadata": {},
     "output_type": "execute_result"
    }
   ],
   "source": [
    "# model.coef_"
   ]
  },
  {
   "cell_type": "code",
   "execution_count": 188,
   "id": "9d38ca2c",
   "metadata": {},
   "outputs": [
    {
     "data": {
      "text/plain": [
       "-1.2752449916553292"
      ]
     },
     "execution_count": 188,
     "metadata": {},
     "output_type": "execute_result"
    }
   ],
   "source": [
    "# model.intercept_"
   ]
  },
  {
   "cell_type": "code",
   "execution_count": 189,
   "id": "166937a4",
   "metadata": {},
   "outputs": [
    {
     "data": {
      "text/plain": [
       "<matplotlib.collections.PathCollection at 0x13737dbabe0>"
      ]
     },
     "execution_count": 189,
     "metadata": {},
     "output_type": "execute_result"
    },
    {
     "data": {
      "image/png": "[encoded data removed]",
      "text/plain": [
       "<Figure size 432x288 with 1 Axes>"
      ]
     },
     "metadata": {
      "needs_background": "light"
     },
     "output_type": "display_data"
    }
   ],
   "source": [
    "# plt.scatter(X,y)"
   ]
  },
  {
   "cell_type": "code",
   "execution_count": 190,
   "id": "c7ad4580",
   "metadata": {},
   "outputs": [
    {
     "data": {
      "text/plain": [
       "<matplotlib.collections.PathCollection at 0x13737d92fd0>"
      ]
     },
     "execution_count": 190,
     "metadata": {},
     "output_type": "execute_result"
    },
    {
     "data": {
      "image/png": "[encoded data removed]",
      "text/plain": [
       "<Figure size 432x288 with 1 Axes>"
      ]
     },
     "metadata": {
      "needs_background": "light"
     },
     "output_type": "display_data"
    }
   ],
   "source": [
    "# a = np.linspace(1,40,25)\n",
    "# b = model.intercept_\n",
    "# m = model.coef_\n",
    "# y_1 = m*a + b\n",
    "\n",
    "# plt.plot(a,y_1)\n",
    "# plt.scatter(X,y)"
   ]
  },
  {
   "cell_type": "code",
   "execution_count": 191,
   "id": "c68f4015",
   "metadata": {},
   "outputs": [
    {
     "name": "stdout",
     "output_type": "stream",
     "text": [
      "1079.562218423955\n"
     ]
    }
   ],
   "source": [
    "# from sklearn.metrics import mean_squared_error\n",
    "# from sklearn.metrics import mean_absolute_error\n",
    "\n",
    "# print(mean_absolute_error(y,y_1))"
   ]
  },
  {
   "cell_type": "code",
   "execution_count": 192,
   "id": "d4ca3607",
   "metadata": {},
   "outputs": [
    {
     "name": "stdout",
     "output_type": "stream",
     "text": [
      "1528780.5485950338\n"
     ]
    }
   ],
   "source": [
    "# print(mean_squared_error(y,y_1))"
   ]
  },
  {
   "cell_type": "code",
   "execution_count": 193,
   "id": "91b34cd1",
   "metadata": {},
   "outputs": [
    {
     "data": {
      "text/plain": [
       "<matplotlib.collections.PathCollection at 0x1373838cfa0>"
      ]
     },
     "execution_count": 193,
     "metadata": {},
     "output_type": "execute_result"
    },
    {
     "data": {
      "image/png": "[encoded data removed]",
      "text/plain": [
       "<Figure size 432x288 with 1 Axes>"
      ]
     },
     "metadata": {
      "needs_background": "light"
     },
     "output_type": "display_data"
    }
   ],
   "source": [
    "x1 = np.random.randn(30)\n",
    "y1 = 5+8*x1 +np.random.randn(30)\n",
    "plt.scatter(x1,y1)"
   ]
  },
  {
   "cell_type": "code",
   "execution_count": 194,
   "id": "f8d5020e",
   "metadata": {},
   "outputs": [
    {
     "name": "stdout",
     "output_type": "stream",
     "text": [
      "[-0.82609824 -2.46950891  1.5696899  -0.75827069 -0.6002922   0.42853875\n",
      "  0.31175677  1.49401416 -0.05502113  0.48115914  0.93584111 -0.09348985\n",
      "  0.18682901  0.26712817 -0.46291973  1.83165487  1.22237036 -0.24379541\n",
      "  0.23889378 -0.80460129 -1.6038677   0.47714251  1.31742474 -1.29717352\n",
      "  0.45536153 -0.17074798 -1.23019374 -0.37352051  0.12487048  0.394038  ]\n",
      "[ -1.48741134 -14.41009163  15.89413919  -0.67017861   1.09595097\n",
      "   8.50650812   8.70122095  16.90859648   3.49143422   9.64991223\n",
      "  13.02992802   3.1868051    6.22901596   7.28292402   0.97426041\n",
      "  19.97804525  14.1175564    3.92688643   5.98264195  -3.22816948\n",
      "  -8.38106639   7.34027487  17.28490094  -4.93532505   8.72417403\n",
      "   3.26240851  -4.83741557   3.12438943   6.15820888   8.85709889]\n"
     ]
    }
   ],
   "source": [
    "print(x1)\n",
    "print(y1)"
   ]
  },
  {
   "cell_type": "code",
   "execution_count": 195,
   "id": "625501e5",
   "metadata": {},
   "outputs": [
    {
     "name": "stdout",
     "output_type": "stream",
     "text": [
      "[7.99318023 4.992834  ]\n"
     ]
    }
   ],
   "source": [
    "x11 = np.c_[x1, np.ones(30)]\n",
    "beta1 = np.linalg.inv(x11.T @ x11) @ (x11.T @ y1)\n",
    "print(beta1)"
   ]
  },
  {
   "cell_type": "code",
   "execution_count": 197,
   "id": "305d775b",
   "metadata": {},
   "outputs": [],
   "source": [
    "model = LinearRegression()"
   ]
  },
  {
   "cell_type": "code",
   "execution_count": 198,
   "id": "497f37d9",
   "metadata": {},
   "outputs": [
    {
     "data": {
      "text/plain": [
       "LinearRegression()"
      ]
     },
     "execution_count": 198,
     "metadata": {},
     "output_type": "execute_result"
    }
   ],
   "source": [
    "x_1=pd.DataFrame(x1)\n",
    "y_1=pd.DataFrame(y1)\n",
    "model.fit(x_1,y_1)"
   ]
  },
  {
   "cell_type": "code",
   "execution_count": 199,
   "id": "a6ee323f",
   "metadata": {},
   "outputs": [
    {
     "name": "stdout",
     "output_type": "stream",
     "text": [
      "[[7.99318023]]\n",
      "[4.992834]\n"
     ]
    }
   ],
   "source": [
    "\n",
    "print(model.coef_)\n",
    "print(model.intercept_)"
   ]
  },
  {
   "cell_type": "code",
   "execution_count": 200,
   "id": "c6406767",
   "metadata": {},
   "outputs": [
    {
     "data": {
      "text/plain": [
       "<matplotlib.collections.PathCollection at 0x13738808af0>"
      ]
     },
     "execution_count": 200,
     "metadata": {},
     "output_type": "execute_result"
    },
    {
     "data": {
      "image/png": "[encoded data removed]",
      "text/plain": [
       "<Figure size 432x288 with 1 Axes>"
      ]
     },
     "metadata": {
      "needs_background": "light"
     },
     "output_type": "display_data"
    }
   ],
   "source": [
    "plt.scatter(x_1,y_1)"
   ]
  },
  {
   "cell_type": "code",
   "execution_count": 201,
   "id": "e5b610fc",
   "metadata": {},
   "outputs": [
    {
     "data": {
      "text/plain": [
       "array([[ -1.61031813],\n",
       "       [-14.74639579],\n",
       "       [ 17.53964825],\n",
       "       [ -1.06816027],\n",
       "       [  0.19459027],\n",
       "       [  8.4182215 ],\n",
       "       [  7.48476209],\n",
       "       [ 16.93475847],\n",
       "       [  4.5530402 ],\n",
       "       [  8.83882572],\n",
       "       [ 12.47318065],\n",
       "       [  4.24555275],\n",
       "       [  6.48619193],\n",
       "       [  7.12803757],\n",
       "       [  1.29263319],\n",
       "       [ 19.63358152],\n",
       "       [ 14.76346062],\n",
       "       [  3.04413331],\n",
       "       [  6.90235502],\n",
       "       [ -1.43848914],\n",
       "       [ -7.82716963],\n",
       "       [  8.80672008],\n",
       "       [ 15.5232474 ],\n",
       "       [ -5.37570776],\n",
       "       [  8.63262076],\n",
       "       [  3.62801465],\n",
       "       [ -4.84032626],\n",
       "       [  2.00721727],\n",
       "       [  5.99094622],\n",
       "       [  8.14245073]])"
      ]
     },
     "execution_count": 201,
     "metadata": {},
     "output_type": "execute_result"
    }
   ],
   "source": [
    "predictions=model.predict(x_1)\n",
    "predictions"
   ]
  },
  {
   "cell_type": "code",
   "execution_count": 202,
   "id": "fcbf8192",
   "metadata": {},
   "outputs": [
    {
     "data": {
      "text/plain": [
       "(30, 1)"
      ]
     },
     "execution_count": 202,
     "metadata": {},
     "output_type": "execute_result"
    }
   ],
   "source": [
    "x2=np.array([[-1.92215324,  0.01571005,  0.82422113 ,-0.97513493  ,1.16028659 , 1.85715407,\n",
    " -0.27057351  ,1.47498669, -1.00134743, -0.06420183 , 0.48910735  ,1.06733279,\n",
    " -1.69322572  ,0.83947245 , 1.14110403 ,-2.05850118  ,2.03131237 ,-1.37465128,\n",
    " -0.73962521 , 0.48058019  ,0.92988487  ,0.82337084 ,-0.04110306 ,-0.79742457,\n",
    " 11.07005875, 17.66238121  ,28.17209162 ,22.42720144 ,31.37037522,  20.40496132]])\n",
    "xx1=x2.reshape(-1,1)\n",
    "xx1.shape"
   ]
  },
  {
   "cell_type": "code",
   "execution_count": 203,
   "id": "f4f0411d",
   "metadata": {},
   "outputs": [
    {
     "data": {
      "text/plain": [
       "(1, 30)"
      ]
     },
     "execution_count": 203,
     "metadata": {},
     "output_type": "execute_result"
    }
   ],
   "source": [
    "y2= 5+8*x2 +np.random.randn(30)\n",
    "y2.reshape\n",
    "y2.shape"
   ]
  },
  {
   "cell_type": "code",
   "execution_count": null,
   "id": "21a1ff55",
   "metadata": {},
   "outputs": [],
   "source": []
  }
 ],
 "metadata": {
  "kernelspec": {
   "display_name": "Python 3 (ipykernel)",
   "language": "python",
   "name": "python3"
  },
  "language_info": {
   "codemirror_mode": {
    "name": "ipython",
    "version": 3
   },
   "file_extension": ".py",
   "mimetype": "text/x-python",
   "name": "python",
   "nbconvert_exporter": "python",
   "pygments_lexer": "ipython3",
   "version": "3.9.7"
  }
 },
 "nbformat": 4,
 "nbformat_minor": 5
}
