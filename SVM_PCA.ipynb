{
 "cells": [
  {
   "cell_type": "code",
   "execution_count": 8,
   "id": "183ee0dd",
   "metadata": {},
   "outputs": [
    {
     "name": "stdout",
     "output_type": "stream",
     "text": [
      "Collecting opencv-python\n",
      "  Downloading opencv_python-4.9.0.80-cp37-abi3-win_amd64.whl.metadata (20 kB)\n",
      "Requirement already satisfied: numpy>=1.17.0 in c:\\programdata\\anaconda3\\lib\\site-packages (from opencv-python) (1.20.3)\n",
      "Downloading opencv_python-4.9.0.80-cp37-abi3-win_amd64.whl (38.6 MB)\n",
      "   ---------------------------------------- 38.6/38.6 MB 287.5 kB/s eta 0:00:00\n",
      "Installing collected packages: opencv-python\n",
      "Successfully installed opencv-python-4.9.0.80\n"
     ]
    },
    {
     "name": "stderr",
     "output_type": "stream",
     "text": [
      "WARNING: Ignoring invalid distribution - (c:\\programdata\\anaconda3\\lib\\site-packages)\n",
      "WARNING: Ignoring invalid distribution -ip (c:\\programdata\\anaconda3\\lib\\site-packages)\n",
      "WARNING: Ignoring invalid distribution -rometheus-client (c:\\programdata\\anaconda3\\lib\\site-packages)\n",
      "WARNING: Ignoring invalid distribution -yodbc (c:\\programdata\\anaconda3\\lib\\site-packages)\n",
      "WARNING: Ignoring invalid distribution - (c:\\programdata\\anaconda3\\lib\\site-packages)\n",
      "WARNING: Ignoring invalid distribution -ip (c:\\programdata\\anaconda3\\lib\\site-packages)\n",
      "WARNING: Ignoring invalid distribution -rometheus-client (c:\\programdata\\anaconda3\\lib\\site-packages)\n",
      "WARNING: Ignoring invalid distribution -yodbc (c:\\programdata\\anaconda3\\lib\\site-packages)\n",
      "\n",
      "[notice] A new release of pip is available: 23.3.2 -> 24.0\n",
      "[notice] To update, run: python.exe -m pip install --upgrade pip\n"
     ]
    }
   ],
   "source": [
    "!pip install opencv-python"
   ]
  },
  {
   "cell_type": "code",
   "execution_count": 9,
   "id": "1be63c6b",
   "metadata": {},
   "outputs": [],
   "source": [
    "import cv2\n",
    "import os"
   ]
  },
  {
   "cell_type": "code",
   "execution_count": 16,
   "id": "9ea4e6a0",
   "metadata": {},
   "outputs": [
    {
     "ename": "SyntaxError",
     "evalue": "(unicode error) 'unicodeescape' codec can't decode bytes in position 2-3: truncated \\UXXXXXXXX escape (Temp/ipykernel_6148/912640745.py, line 33)",
     "output_type": "error",
     "traceback": [
      "\u001b[1;36m  File \u001b[1;32m\"C:\\Users\\HP840G~1\\AppData\\Local\\Temp/ipykernel_6148/912640745.py\"\u001b[1;36m, line \u001b[1;32m33\u001b[0m\n\u001b[1;33m    dataset_path = \"C:\\Users\\Hp 840 G2\\CAI\\Machine Learning\\dataset\"\u001b[0m\n\u001b[1;37m                                                                    ^\u001b[0m\n\u001b[1;31mSyntaxError\u001b[0m\u001b[1;31m:\u001b[0m (unicode error) 'unicodeescape' codec can't decode bytes in position 2-3: truncated \\UXXXXXXXX escape\n"
     ]
    }
   ],
   "source": [
    "def convert_images_to_grayscale(dataset_path):\n",
    "  \"\"\"\n",
    "  Recursively walks through a directory structure, converts images to grayscale,\n",
    "  and prints information about the processed images.\n",
    "\n",
    "  Args:\n",
    "      dataset_path (str): The path to the top-level folder containing the images.\n",
    "  \"\"\"\n",
    "\n",
    "  for folder_name in os.listdir(dataset_path):\n",
    "    # Ignore hidden folders\n",
    "    if folder_name.startswith('.'):\n",
    "        continue\n",
    "\n",
    "    subfolder_path = os.path.join(dataset_path, folder_name)\n",
    "\n",
    "    # Handle folders within subfolders\n",
    "    if os.path.isdir(subfolder_path):\n",
    "        convert_images_to_grayscale(subfolder_path)\n",
    "    else:\n",
    "      # Assuming the image files are directly in the folder (not further subfolders)\n",
    "      if os.path.isfile(subfolder_path):\n",
    "        # Read image and check success\n",
    "        img = cv2.imread(subfolder_path, cv2.IMREAD_GRAYSCALE)\n",
    "        if img is None:\n",
    "            print(f\"Error: Could not read image '{subfolder_path}'. Skipping...\")\n",
    "            continue\n",
    "\n",
    "        # Print information about the processed image\n",
    "        print(f\"Converted '{subfolder_path}' to grayscale.\")\n",
    "\n",
    "# Replace with the actual path to your dataset folder\n",
    "dataset_path = \"C:\\Users\\Hp 840 G2\\CAI\\Machine Learning\\dataset\"\n",
    "convert_images_to_grayscale(dataset_path)\n"
   ]
  },
  {
   "cell_type": "code",
   "execution_count": 15,
   "id": "152a6638",
   "metadata": {},
   "outputs": [],
   "source": [
    "import os\n",
    "import cv2\n",
    "\n",
    "# Function to convert images to grayscale\n",
    "def convert_to_grayscale(input_folder, output_folder):\n",
    "    # Loop through each subject folder (s1, s2, s3, s4, s5)\n",
    "    for subject_folder in os.listdir(input_folder):\n",
    "        subject_path = os.path.join(input_folder, subject_folder)\n",
    "        if os.path.isdir(subject_path):\n",
    "            # Special case for s1\n",
    "            if subject_folder == 's1':\n",
    "                # Loop through each emotion folder (angry, sad, happy, neutral)\n",
    "                for emotion_folder in os.listdir(subject_path):\n",
    "                    emotion_path = os.path.join(subject_path, emotion_folder)\n",
    "                    if os.path.isdir(emotion_path):\n",
    "                        output_emotion_path = os.path.join(output_folder, subject_folder, emotion_folder)\n",
    "                        os.makedirs(output_emotion_path, exist_ok=True)\n",
    "                        \n",
    "                        # Loop through each image in the emotion folder\n",
    "                        for image_file in os.listdir(emotion_path):\n",
    "                            image_path = os.path.join(emotion_path, image_file)\n",
    "                            # Read the image\n",
    "                            img = cv2.imread(image_path)\n",
    "                            if img is not None:\n",
    "                                # Convert the image to grayscale\n",
    "                                gray_img = cv2.cvtColor(img, cv2.COLOR_BGR2GRAY)\n",
    "                                # Save the grayscale image\n",
    "                                output_path = os.path.join(output_emotion_path, image_file)\n",
    "                                cv2.imwrite(output_path, gray_img)\n",
    "                                print(f\"Converted '{image_path}' to grayscale and saved as '{output_path}'\")\n",
    "            else:\n",
    "                # Loop through each emotion folder (angry, sad, happy, neutral)\n",
    "                for emotion_folder in ['angry', 'happy', 'neutral', 'sad']:\n",
    "                    emotion_path = os.path.join(subject_path, emotion_folder)\n",
    "                    if os.path.isdir(emotion_path):\n",
    "                        output_emotion_path = os.path.join(output_folder, subject_folder, emotion_folder)\n",
    "                        os.makedirs(output_emotion_path, exist_ok=True)\n",
    "                        \n",
    "                        # Loop through each image in the emotion folder\n",
    "                        for image_file in os.listdir(emotion_path):\n",
    "                            image_path = os.path.join(emotion_path, image_file)\n",
    "                            # Read the image\n",
    "                            img = cv2.imread(image_path)\n",
    "                            if img is not None:\n",
    "                                # Convert the image to grayscale\n",
    "                                gray_img = cv2.cvtColor(img, cv2.COLOR_BGR2GRAY)\n",
    "                                # Save the grayscale image\n",
    "                                output_path = os.path.join(output_emotion_path, image_file)\n",
    "                                cv2.imwrite(output_path, gray_img)\n",
    "                                print(f\"Converted '{image_path}' to grayscale and saved as '{output_path}'\")\n",
    "\n",
    "# Path to the dataset folder\n",
    "dataset_folder = r\"C:\\Users\\Hp 840 G2\\CAI\\Machine Learning\\dataset\"\n",
    "# Path to the output folder where grayscale images will be saved\n",
    "output_folder = \"path/to/output_folder\"\n",
    "\n",
    "# Convert images to grayscale\n",
    "convert_to_grayscale(dataset_folder, output_folder)\n"
   ]
  },
  {
   "cell_type": "code",
   "execution_count": null,
   "id": "aaf14a04",
   "metadata": {},
   "outputs": [],
   "source": []
  }
 ],
 "metadata": {
  "kernelspec": {
   "display_name": "Python 3 (ipykernel)",
   "language": "python",
   "name": "python3"
  },
  "language_info": {
   "codemirror_mode": {
    "name": "ipython",
    "version": 3
   },
   "file_extension": ".py",
   "mimetype": "text/x-python",
   "name": "python",
   "nbconvert_exporter": "python",
   "pygments_lexer": "ipython3",
   "version": "3.9.7"
  }
 },
 "nbformat": 4,
 "nbformat_minor": 5
}
