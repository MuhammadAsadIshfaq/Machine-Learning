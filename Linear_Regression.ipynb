{
 "cells": [
  {
   "cell_type": "code",
   "execution_count": 1,
   "id": "cc0d6ded",
   "metadata": {},
   "outputs": [],
   "source": [
    "import sklearn"
   ]
  },
  {
   "cell_type": "code",
   "execution_count": 4,
   "id": "e44b7b48",
   "metadata": {},
   "outputs": [],
   "source": [
    "import matplotlib.pyplot as plt\n",
    "import numpy as np\n",
    "from sklearn.linear_model import LinearRegression"
   ]
  },
  {
   "cell_type": "code",
   "execution_count": 5,
   "id": "a1ac8917",
   "metadata": {},
   "outputs": [],
   "source": [
    "model = LinearRegression()"
   ]
  },
  {
   "cell_type": "code",
   "execution_count": 7,
   "id": "0f0011db",
   "metadata": {},
   "outputs": [],
   "source": [
    "X = [[-0.60834727],[-1.45371331],[-1.54626904],[-0.17282008],[ 0.2250689 ],\n",
    "       [-2.17785042],[-1.14561475],[-0.69247356],[ 0.38970567],[ 1.31052106],\n",
    "       [ 0.76558893],       [-0.26542221],       [-0.02746902],       [-0.42805859],       [ 1.72724477],\n",
    "       [ 0.69860211],       [-0.33981284],       [-1.3703788 ],       [ 1.62353189],       [-0.146066  ],\n",
    "       [ 0.61664969],       [-1.93449495],       [ 2.48906603],       [-3.23349907],       [ 0.22512135],\n",
    "       [ 2.5278926 ],       [-0.33396387],       [ 0.25282401],       [-0.22591363],       [ 0.17100085],\n",
    "       [-0.46367397],       [ 0.29010349],       [-1.58460717],       [-0.38259139],       [-0.67218538],\n",
    "       [ 0.0539355 ],       [-0.28362828],       [ 0.26484613],       [-0.13458161],       [-0.16794675],\n",
    "       [ 0.62985391],       [ 0.21160911],       [-1.36071361],       [-0.38999452],       [-0.17520867],\n",
    "       [ 1.17732015],       [ 0.54664128],       [-0.15694142],       [-0.68424801],       [ 0.71016151],\n",
    "       [ 1.28044202],       [ 0.10857449],       [-0.89746854],       [ 0.30035244],       [ 1.31158984],\n",
    "       [-0.75828086],       [-0.76676529],       [-1.02978116],       [-0.46450614],       [-0.09345965],\n",
    "       [-1.83489648],       [ 0.16071147],       [-1.6940688 ],       [-0.14754545],       [-0.19394552],\n",
    "       [-0.12688194],\n",
    "       [-1.39391014],\n",
    "       [ 0.35003   ],\n",
    "       [-0.72558668],\n",
    "       [-0.49705681],\n",
    "       [ 0.19802542],\n",
    "       [-0.66205368],\n",
    "       [-0.51832756],\n",
    "       [-0.20441062],\n",
    "       [ 0.83966886],\n",
    "       [-0.3548165 ],\n",
    "       [-1.07490421],\n",
    "       [-1.14034111],\n",
    "       [ 1.64790944],\n",
    "       [ 2.55042546],\n",
    "       [-0.08841425],\n",
    "       [-1.02628853],\n",
    "       [ 0.95668415],\n",
    "       [ 0.2463111 ],\n",
    "       [ 0.53306108],\n",
    "       [-0.30763363],\n",
    "       [ 0.13439057],\n",
    "       [-0.61114712],\n",
    "       [ 0.20275562],\n",
    "       [ 1.08011436],\n",
    "       [ 2.13672448],\n",
    "       [ 1.30538952],\n",
    "       [ 1.1546594 ],\n",
    "       [-2.14290475],\n",
    "       [ 0.15341923],\n",
    "       [-0.46868475],\n",
    "       [ 0.90644837],\n",
    "       [-0.47838893],\n",
    "       [ 2.45602369],\n",
    "       [-0.32855126]]\n",
    "\n",
    "y = [ -25.25598726,  -81.52662378,  -80.16772595,  -10.06539749,\n",
    "          6.86499339, -114.7111637 ,  -57.2647762 ,  -37.20964642,\n",
    "         26.22929405,   64.77527449,   41.75329673,  -20.32893065,\n",
    "         -2.12154947,  -20.56233987,   87.70034343,   33.60897806,\n",
    "        -19.2595307 ,  -76.88199298,   79.21178416,   -6.75626181,\n",
    "         30.54458138, -103.57969816,  128.47796563, -171.2019161 ,\n",
    "         10.76781493,  132.08409743,   -9.04429267,    8.1486204 ,\n",
    "         -1.07005875,   17.66238121,  -28.17209162,   22.42720144,\n",
    "        -85.55983076,  -20.32421684,  -34.14051804,    5.17088808,\n",
    "        -10.65376209,   12.61819027,  -11.54199369,   -4.32766811,\n",
    "         29.73807977,   12.21042098,  -63.0075975 ,  -18.79156951,\n",
    "         -8.26705678,   61.32617136,   31.63714455,   -9.33661138,\n",
    "        -44.01972315,   40.55352523,   64.24321995,    7.32746056,\n",
    "        -47.13356773,   11.31757311,   65.98238668,  -35.42875215,\n",
    "        -38.67111994,  -45.66854276,  -22.38059945,   -7.47725093,\n",
    "        -91.51005968,    7.09733066,  -82.42122535,    1.50474149,\n",
    "        -13.91424424,   -8.74849709,  -71.47819723,   16.12222316,\n",
    "        -37.59332854,  -19.29274081,    4.4417863 ,  -32.34285125,\n",
    "        -23.77844553,   -8.73072296,   46.05308878,  -27.8760734 ,\n",
    "        -52.09548797,  -62.79227089,   84.92075417,  135.96178369,\n",
    "         -7.2255112 ,  -53.67716872,   51.1781027 ,    7.01480418,\n",
    "         20.85578084,  -10.02645463,   -3.73607695,  -29.36012959,\n",
    "         14.22776799,   57.70129885,  111.68766315,   67.20838735,\n",
    "         60.28805624, -106.86574462,    7.28747797,  -27.30253097,\n",
    "         48.62165866,  -29.5375383 ,  127.56158731,  -17.91772827]"
   ]
  },
  {
   "cell_type": "code",
   "execution_count": 8,
   "id": "91dc3d2e",
   "metadata": {},
   "outputs": [
    {
     "data": {
      "text/plain": [
       "LinearRegression()"
      ]
     },
     "execution_count": 8,
     "metadata": {},
     "output_type": "execute_result"
    }
   ],
   "source": [
    "model.fit(X,y)"
   ]
  },
  {
   "cell_type": "code",
   "execution_count": 65,
   "id": "ff269a22",
   "metadata": {},
   "outputs": [
    {
     "data": {
      "text/plain": [
       "array([7.46973389])"
      ]
     },
     "execution_count": 65,
     "metadata": {},
     "output_type": "execute_result"
    }
   ],
   "source": [
    "prediction = model.predict([[0.14341923]])\n",
    "prediction"
   ]
  },
  {
   "cell_type": "code",
   "execution_count": 10,
   "id": "3956a79d",
   "metadata": {},
   "outputs": [
    {
     "data": {
      "text/plain": [
       "array([51.7225626])"
      ]
     },
     "execution_count": 10,
     "metadata": {},
     "output_type": "execute_result"
    }
   ],
   "source": [
    "model.coef_"
   ]
  },
  {
   "cell_type": "code",
   "execution_count": 12,
   "id": "93658225",
   "metadata": {},
   "outputs": [
    {
     "data": {
      "text/plain": [
       "0.05172379097182578"
      ]
     },
     "execution_count": 12,
     "metadata": {},
     "output_type": "execute_result"
    }
   ],
   "source": [
    "model.intercept_"
   ]
  },
  {
   "cell_type": "code",
   "execution_count": 13,
   "id": "6dbf727e",
   "metadata": {},
   "outputs": [
    {
     "data": {
      "text/plain": [
       "<matplotlib.collections.PathCollection at 0x27ad7c58f10>"
      ]
     },
     "execution_count": 13,
     "metadata": {},
     "output_type": "execute_result"
    },
    {
     "data": {
      "image/png": "[encoded data removed]",
      "text/plain": [
       "<Figure size 432x288 with 1 Axes>"
      ]
     },
     "metadata": {
      "needs_background": "light"
     },
     "output_type": "display_data"
    }
   ],
   "source": [
    "plt.scatter(X,y)"
   ]
  },
  {
   "cell_type": "code",
   "execution_count": 27,
   "id": "97f154ab",
   "metadata": {},
   "outputs": [],
   "source": [
    "prediction = model.predict(X)"
   ]
  },
  {
   "cell_type": "code",
   "execution_count": 28,
   "id": "fff035e8",
   "metadata": {},
   "outputs": [
    {
     "data": {
      "text/plain": [
       "<matplotlib.collections.PathCollection at 0x27ad9eae1c0>"
      ]
     },
     "execution_count": 28,
     "metadata": {},
     "output_type": "execute_result"
    },
    {
     "data": {
      "image/png": "[encoded data removed]",
      "text/plain": [
       "<Figure size 432x288 with 1 Axes>"
      ]
     },
     "metadata": {
      "needs_background": "light"
     },
     "output_type": "display_data"
    }
   ],
   "source": [
    "a = np.linspace(-3,3,100)\n",
    "b = model.intercept_\n",
    "m = model.coef_\n",
    "y_1 = m*a + b\n",
    "\n",
    "plt.plot(a,y_1)\n",
    "plt.scatter(X,y)"
   ]
  },
  {
   "cell_type": "code",
   "execution_count": 84,
   "id": "9aff8881",
   "metadata": {},
   "outputs": [
    {
     "data": {
      "text/plain": [
       "<matplotlib.collections.PathCollection at 0x27adb4f2b80>"
      ]
     },
     "execution_count": 84,
     "metadata": {},
     "output_type": "execute_result"
    },
    {
     "data": {
      "image/png": "[encoded data removed]",
      "text/plain": [
       "<Figure size 432x288 with 1 Axes>"
      ]
     },
     "metadata": {
      "needs_background": "light"
     },
     "output_type": "display_data"
    }
   ],
   "source": [
    "a = np.linspace(-3,3,100)\n",
    "b = model.intercept_\n",
    "m = 51.7225626\n",
    "y_2 = m*a + b\n",
    "\n",
    "plt.plot(a,y_2)\n",
    "plt.scatter(X,y)"
   ]
  },
  {
   "cell_type": "code",
   "execution_count": 85,
   "id": "7abd6d52",
   "metadata": {
    "scrolled": false
   },
   "outputs": [
    {
     "name": "stdout",
     "output_type": "stream",
     "text": [
      "82.90398313034672\n"
     ]
    }
   ],
   "source": [
    "from sklearn.metrics import mean_absolute_error\n",
    "from sklearn.metrics import mean_squared_error\n",
    "\n",
    "print(mean_absolute_error(y,y_2))"
   ]
  },
  {
   "cell_type": "code",
   "execution_count": 86,
   "id": "6a64e1a5",
   "metadata": {},
   "outputs": [
    {
     "name": "stdout",
     "output_type": "stream",
     "text": [
      "9758.38257391314\n"
     ]
    }
   ],
   "source": [
    "print(mean_squared_error(y,y_2))"
   ]
  },
  {
   "cell_type": "code",
   "execution_count": 90,
   "id": "af086ac0",
   "metadata": {},
   "outputs": [
    {
     "data": {
      "text/plain": [
       "'1.3.4'"
      ]
     },
     "execution_count": 90,
     "metadata": {},
     "output_type": "execute_result"
    }
   ],
   "source": [
    "import pandas\n",
    "pandas.__version__"
   ]
  },
  {
   "cell_type": "code",
   "execution_count": null,
   "id": "1d8057af",
   "metadata": {},
   "outputs": [],
   "source": []
  }
 ],
 "metadata": {
  "kernelspec": {
   "display_name": "Python 3 (ipykernel)",
   "language": "python",
   "name": "python3"
  },
  "language_info": {
   "codemirror_mode": {
    "name": "ipython",
    "version": 3
   },
   "file_extension": ".py",
   "mimetype": "text/x-python",
   "name": "python",
   "nbconvert_exporter": "python",
   "pygments_lexer": "ipython3",
   "version": "3.9.7"
  }
 },
 "nbformat": 4,
 "nbformat_minor": 5
}
