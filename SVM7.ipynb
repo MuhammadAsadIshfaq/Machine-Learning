{
 "cells": [
  {
   "cell_type": "code",
   "execution_count": 1,
   "id": "b0f8ad1c",
   "metadata": {},
   "outputs": [],
   "source": [
    "from sklearn import svm \n",
    "import numpy as np\n",
    "import matplotlib.pyplot as plt"
   ]
  },
  {
   "cell_type": "code",
   "execution_count": 19,
   "id": "57c8331a",
   "metadata": {},
   "outputs": [
    {
     "data": {
      "text/plain": [
       "array([0., 0., 0., 0., 0., 1., 1., 1., 1., 1., 1., 1., 1., 1., 1., 1., 1.,\n",
       "       1., 0., 0., 0., 0., 0., 0., 0., 0., 0., 0., 0., 0., 0., 0., 0., 0.,\n",
       "       0., 0., 0., 0., 0., 0.])"
      ]
     },
     "execution_count": 19,
     "metadata": {},
     "output_type": "execute_result"
    }
   ],
   "source": [
    "X = np.array([[-2, -15],\n",
    "     [-10, 2],  [-1, -29],[-10, -2],[-21, -15],[-18, -5],[-12, -18], [-15, -16],[-5, -22],[-16, -28],[-45, -13],[-11, -27],\n",
    "     [ 2, -34],[-19, -21],[-4, -5],  [-18, -16],[-28, -39],[-23, -18],[-7, -7],[-23, -23],   [ 9,  5],[ 2,  39],\n",
    "     [ 14,  15],[ 7,  27],[ 3,  17],[ 11,  23],[ 14,  8],[ 19,  24],[ 20,  23], [ 13,  16],\n",
    "    [ 13,  16],   [ 21,  2],[ 21,  15], [ 3,  24],  [ 10,  20], [ 27,  21],[ 31,  7], [ 24,  13],[ 11,  14], [ 16,  20]])\n",
    "y = np.zeros(40)\n",
    "y[5:18]=1\n",
    "y"
   ]
  },
  {
   "cell_type": "code",
   "execution_count": 20,
   "id": "d74a9a8c",
   "metadata": {},
   "outputs": [
    {
     "name": "stdout",
     "output_type": "stream",
     "text": [
      "[0.625, 0.625, 0.875, 1.0, 1.0]\n",
      "0.825\n"
     ]
    }
   ],
   "source": [
    "# cross validation implmentation\n",
    "step = 8\n",
    "accuracy=[]\n",
    "for i in range(0, len(X), step):\n",
    "    X_test = X[i:i+step]\n",
    "    y_test = y[i:i+step]\n",
    "    \n",
    "    # Constructing training set by excluding the test set\n",
    "    X_train = np.concatenate((X[:i], X[i+step:]), axis=0)\n",
    "    y_train = np.concatenate((y[:i], y[i+step:]), axis=0)\n",
    "    model=svm.SVC(kernel ='linear')\n",
    "    model.fit(X_train,y_train)\n",
    "    acc=model.score(X_test,y_test)\n",
    "    accuracy.append(acc)\n",
    "print(accuracy)\n",
    "    \n",
    "#     print(\"X_train:\", X_train)\n",
    "#     print(\"y_train:\", y_train)\n",
    "average = sum(accuracy)/len(accuracy)\n",
    "print(average)"
   ]
  },
  {
   "cell_type": "code",
   "execution_count": 7,
   "id": "055b87ba",
   "metadata": {},
   "outputs": [
    {
     "name": "stdout",
     "output_type": "stream",
     "text": [
      "[[ -2 -15]\n",
      " [-10   2]\n",
      " [ -1 -29]\n",
      " [-10  -2]\n",
      " [-21 -15]\n",
      " [-18  -5]\n",
      " [-12 -18]\n",
      " [-15 -16]]\n",
      "[0. 0. 0. 0. 0. 0. 0. 0.]\n",
      "[[ -5 -22]\n",
      " [-16 -28]\n",
      " [-45 -13]\n",
      " [-11 -27]\n",
      " [  2 -34]\n",
      " [-19 -21]\n",
      " [ -4  -5]\n",
      " [-18 -16]]\n",
      "[0. 0. 0. 0. 0. 0. 0. 0.]\n",
      "[[-28 -39]\n",
      " [-23 -18]\n",
      " [ -7  -7]\n",
      " [-23 -23]\n",
      " [  9   5]\n",
      " [  2  39]\n",
      " [ 14  15]\n",
      " [  7  27]]\n",
      "[0. 0. 0. 0. 1. 1. 1. 1.]\n",
      "[[ 3 17]\n",
      " [11 23]\n",
      " [14  8]\n",
      " [19 24]\n",
      " [20 23]\n",
      " [13 16]\n",
      " [13 16]\n",
      " [21  2]]\n",
      "[1. 1. 1. 1. 1. 1. 1. 1.]\n",
      "[[21 15]\n",
      " [ 3 24]\n",
      " [10 20]\n",
      " [27 21]\n",
      " [31  7]\n",
      " [24 13]\n",
      " [11 14]\n",
      " [16 20]]\n",
      "[1. 1. 1. 1. 1. 1. 1. 1.]\n"
     ]
    }
   ],
   "source": [
    "# step=8\n",
    "# for i in range(0,len(X),step):\n",
    "    \n",
    "#     X_test=X[i:i+step]\n",
    "#     y_test=y[i:i+step]\n",
    "#     X_train=X[X-X_test]\n",
    "#     Y_train=y[y-y_test]\n",
    "    \n",
    "    \n",
    "    \n",
    "#     print(X_test)\n",
    "#     print(y_test)"
   ]
  },
  {
   "cell_type": "code",
   "execution_count": null,
   "id": "c5f1d456",
   "metadata": {},
   "outputs": [],
   "source": []
  }
 ],
 "metadata": {
  "kernelspec": {
   "display_name": "Python 3 (ipykernel)",
   "language": "python",
   "name": "python3"
  },
  "language_info": {
   "codemirror_mode": {
    "name": "ipython",
    "version": 3
   },
   "file_extension": ".py",
   "mimetype": "text/x-python",
   "name": "python",
   "nbconvert_exporter": "python",
   "pygments_lexer": "ipython3",
   "version": "3.9.7"
  }
 },
 "nbformat": 4,
 "nbformat_minor": 5
}
