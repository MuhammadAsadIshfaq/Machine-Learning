{
 "cells": [
  {
   "cell_type": "code",
   "execution_count": 1,
   "id": "a99388de",
   "metadata": {},
   "outputs": [],
   "source": [
    "import sklearn"
   ]
  },
  {
   "cell_type": "code",
   "execution_count": 6,
   "id": "f026ffc6",
   "metadata": {},
   "outputs": [],
   "source": [
    "import numpy as np\n",
    "import matplotlib.pyplot as plt\n",
    "from sklearn.linear_model import LinearRegression\n",
    "from sklearn.datasets import make_regression"
   ]
  },
  {
   "cell_type": "code",
   "execution_count": 7,
   "id": "1f0e1d14",
   "metadata": {},
   "outputs": [],
   "source": [
    "x,y = make_regression(noise=5,n_features=1,n_samples=70,random_state=12)"
   ]
  },
  {
   "cell_type": "code",
   "execution_count": 8,
   "id": "aaf9995f",
   "metadata": {},
   "outputs": [
    {
     "data": {
      "text/plain": [
       "LinearRegression()"
      ]
     },
     "execution_count": 8,
     "metadata": {},
     "output_type": "execute_result"
    }
   ],
   "source": [
    "model = LinearRegression()\n",
    "\n",
    "model.fit(x, y)"
   ]
  },
  {
   "cell_type": "code",
   "execution_count": 9,
   "id": "8fc0a441",
   "metadata": {},
   "outputs": [
    {
     "data": {
      "text/plain": [
       "array([13.81990682])"
      ]
     },
     "execution_count": 9,
     "metadata": {},
     "output_type": "execute_result"
    }
   ],
   "source": [
    "model.predict([[0.14341923]])"
   ]
  },
  {
   "cell_type": "code",
   "execution_count": 11,
   "id": "cc1bb7b6",
   "metadata": {},
   "outputs": [
    {
     "data": {
      "text/plain": [
       "array([  65.11674341,   61.56072272,   21.43209041,  -98.77379385,\n",
       "       -111.89863383,  -65.35858152,  -11.67258035,  215.24927141,\n",
       "        -10.97857327,  -54.84316113,  105.25577766, -110.16635881,\n",
       "       -302.07382549, -116.59360397,   13.38093058,   98.84880065,\n",
       "       -146.71747805,    3.45249968, -212.40937525,  -96.85697337,\n",
       "         23.32505505,   53.4301338 ,   83.33657638,   20.68877557,\n",
       "        -13.70642191, -171.58983362,   72.34846293, -110.75647132,\n",
       "        -87.6712634 ,  275.7243519 ,   22.37002567,   97.24614803,\n",
       "         -4.88260988,  -10.10911416,   48.22851542,  -95.67072265,\n",
       "       -212.90867407,  -57.33337058,  -68.70272085,  -62.09532574,\n",
       "         30.6421172 ,   34.38378132,   -3.7109494 ,  -24.31993126,\n",
       "        -65.02448017,    4.90260015,  -11.48807254,  128.28186722,\n",
       "       -161.38226681,  -32.35360984,   -7.95763584, -147.26807449,\n",
       "        -56.1282261 ,   45.40488251,   50.67250509,    7.08442493,\n",
       "        116.18353278,  -68.47163956,  203.01283682,   45.45564669,\n",
       "       -163.20410985,   90.62845488,   51.42155215,  -50.66974412,\n",
       "         96.13526046,  128.90821782,  -77.41094638,  -36.84253431,\n",
       "          0.54497386,   15.39114795])"
      ]
     },
     "execution_count": 11,
     "metadata": {},
     "output_type": "execute_result"
    }
   ],
   "source": [
    "predictions = model.predict(x)\n",
    "predictions"
   ]
  },
  {
   "cell_type": "code",
   "execution_count": 12,
   "id": "89099a34",
   "metadata": {},
   "outputs": [
    {
     "data": {
      "text/plain": [
       "array([95.99194738])"
      ]
     },
     "execution_count": 12,
     "metadata": {},
     "output_type": "execute_result"
    }
   ],
   "source": [
    "model.coef_"
   ]
  },
  {
   "cell_type": "code",
   "execution_count": 13,
   "id": "a36cd3a7",
   "metadata": {},
   "outputs": [
    {
     "data": {
      "text/plain": [
       "0.05281564327058774"
      ]
     },
     "execution_count": 13,
     "metadata": {},
     "output_type": "execute_result"
    }
   ],
   "source": [
    "model.intercept_"
   ]
  },
  {
   "cell_type": "code",
   "execution_count": 14,
   "id": "7011e3d1",
   "metadata": {},
   "outputs": [
    {
     "data": {
      "text/plain": [
       "<matplotlib.collections.PathCollection at 0x26590a687f0>"
      ]
     },
     "execution_count": 14,
     "metadata": {},
     "output_type": "execute_result"
    },
    {
     "data": {
      "image/png": "[encoded data removed]",
      "text/plain": [
       "<Figure size 432x288 with 1 Axes>"
      ]
     },
     "metadata": {
      "needs_background": "light"
     },
     "output_type": "display_data"
    }
   ],
   "source": [
    "a = np.linspace(-3,3,100)\n",
    "m = model.coef_\n",
    "b = model.intercept_\n",
    "y_1 = m*a + b\n",
    "plt.plot(a, y_1)\n",
    "plt.scatter(x, y)"
   ]
  },
  {
   "cell_type": "code",
   "execution_count": 15,
   "id": "a30a5b37",
   "metadata": {},
   "outputs": [
    {
     "name": "stdout",
     "output_type": "stream",
     "text": [
      "4.095431239387493\n"
     ]
    }
   ],
   "source": [
    "from sklearn.metrics import mean_absolute_error\n",
    "from sklearn.metrics import mean_squared_error\n",
    "\n",
    "print(mean_absolute_error(y, predictions))"
   ]
  },
  {
   "cell_type": "code",
   "execution_count": 16,
   "id": "959a5fad",
   "metadata": {},
   "outputs": [
    {
     "name": "stdout",
     "output_type": "stream",
     "text": [
      "24.658471833240963\n"
     ]
    }
   ],
   "source": [
    "print(mean_squared_error(y, predictions))"
   ]
  },
  {
   "cell_type": "code",
   "execution_count": null,
   "id": "037859f0",
   "metadata": {},
   "outputs": [],
   "source": []
  }
 ],
 "metadata": {
  "kernelspec": {
   "display_name": "Python 3 (ipykernel)",
   "language": "python",
   "name": "python3"
  },
  "language_info": {
   "codemirror_mode": {
    "name": "ipython",
    "version": 3
   },
   "file_extension": ".py",
   "mimetype": "text/x-python",
   "name": "python",
   "nbconvert_exporter": "python",
   "pygments_lexer": "ipython3",
   "version": "3.9.7"
  }
 },
 "nbformat": 4,
 "nbformat_minor": 5
}
