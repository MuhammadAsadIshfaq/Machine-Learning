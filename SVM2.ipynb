{
 "cells": [
  {
   "cell_type": "code",
   "execution_count": 1,
   "id": "b0651dd9",
   "metadata": {},
   "outputs": [],
   "source": [
    "import matplotlib.pyplot as plt\n",
    "import numpy as np\n",
    "\n",
    "negative = [[1, 1],[2, 1],[1,-1], [2,-1]]\n",
    "positive = [[4,0],[5,1],[5,-1],[6,0]]"
   ]
  },
  {
   "cell_type": "code",
   "execution_count": 2,
   "id": "ce1bf8ec",
   "metadata": {},
   "outputs": [],
   "source": [
    "def draw_plot(data1, data2, marker1='x', marker2='o', color1='blue', color2='red'):\n",
    "    data1 = np.array(data1)\n",
    "    data2 = np.array(data2)\n",
    "    plt.scatter(data1[:,0],data1[:,1], marker=marker1, c=color1)\n",
    "    plt.scatter(data2[:,0], data2[:,1], marker=marker2, c=color2)\n",
    "    plt.grid()\n",
    "    plt.show()\n",
    "\n",
    "def draw_plot_with_sv(data1, data2, sv1, sv2):\n",
    "    data1 = np.array(data1)\n",
    "    data2 = np.array(data2)\n",
    "    sv1 = np.array(sv1)\n",
    "    sv2 = np.array(sv2)\n",
    "    \n",
    "\n",
    "    plt.scatter(data1[:,0],data1[:,1], marker='o', c='red')\n",
    "    plt.scatter(data2[:,0], data2[:,1], marker='x', c='blue')\n",
    "    plt.scatter(sv1[:,0], sv1[:,1], marker='d')\n",
    "    plt.scatter(sv2[:,0], sv2[:,1], marker='d')\n",
    "    plt.grid()\n",
    "    plt.show()\n",
    "    \n",
    "def find_distance_2D(a, b):\n",
    "    return (b[0]-a[0])**2 + (b[1]-a[1])**2 # (x2 - x1 )^2 + (y2 - y1)^2"
   ]
  },
  {
   "cell_type": "code",
   "execution_count": 3,
   "id": "8ba42262",
   "metadata": {},
   "outputs": [],
   "source": [
    "def find_support_vectors_2D(X, Y):\n",
    "    support_vectors = []\n",
    "    distances = []\n",
    "    distances_points = []\n",
    "    \n",
    "    for x in X:\n",
    "        for y in Y:\n",
    "            d = find_distance_2D(x, y)\n",
    "            # print(f\"positive {x} and negative {y} = {d}\")\n",
    "            distances.append(d)\n",
    "            distances_points.append([x, y])\n",
    "\n",
    "    combined = list(zip(distances, distances_points)) # make tupple of first and second list\n",
    "    sorted_combined = sorted(combined) # sorting base on first value of tupple, use 'key' for other values\n",
    "    \n",
    "    temp = sorted_combined[0][0]\n",
    "    for dist, point in sorted_combined:\n",
    "        if temp == dist:\n",
    "            support_vectors.append(point)\n",
    "        else:\n",
    "            break\n",
    "    \n",
    "    first_para_sv = []\n",
    "    second_para_sv = []\n",
    "    \n",
    "    for i in support_vectors:\n",
    "        print(i)\n",
    "        first_para_sv.append(i[0])\n",
    "        second_para_sv.append(i[1])\n",
    "    \n",
    "    \n",
    "    # Convert list of lists to a set of tuples, since lists are not hashable\n",
    "    unique_first_set = {tuple(sublist) for sublist in first_para_sv}\n",
    "    unique_second_set = {tuple(sublist) for sublist in second_para_sv}\n",
    "\n",
    "    # Convert back to list of lists\n",
    "    unique_first_list = [list(sublist) for sublist in unique_first_set]\n",
    "    unique_second_list = [list(sublist) for sublist in unique_second_set]\n",
    "    \n",
    "    return (unique_first_list, unique_second_list)\n"
   ]
  },
  {
   "cell_type": "code",
   "execution_count": 4,
   "id": "c9090a30",
   "metadata": {},
   "outputs": [
    {
     "data": {
      "image/png": "[encoded data removed]",
      "text/plain": [
       "<Figure size 432x288 with 1 Axes>"
      ]
     },
     "metadata": {
      "needs_background": "light"
     },
     "output_type": "display_data"
    },
    {
     "name": "stdout",
     "output_type": "stream",
     "text": [
      "[[4, 0], [2, -1]]\n",
      "[[4, 0], [2, 1]]\n",
      "Positive support vectors: [[4, 0]]\n",
      "Negative support vectors: [[2, -1], [2, 1]]\n"
     ]
    },
    {
     "data": {
      "image/png": "[encoded data removed]",
      "text/plain": [
       "<Figure size 432x288 with 1 Axes>"
      ]
     },
     "metadata": {
      "needs_background": "light"
     },
     "output_type": "display_data"
    }
   ],
   "source": [
    "draw_plot(positive, negative, marker1='o', marker2='x')\n",
    "\n",
    "posi_sv, neg_sv = find_support_vectors_2D(positive, negative)\n",
    "\n",
    "print(f\"Positive support vectors: {posi_sv}\")\n",
    "print(f\"Negative support vectors: {neg_sv}\")\n",
    "\n",
    "draw_plot_with_sv(positive, negative, posi_sv, neg_sv)"
   ]
  },
  {
   "cell_type": "code",
   "execution_count": null,
   "id": "e86dbf63",
   "metadata": {},
   "outputs": [],
   "source": []
  }
 ],
 "metadata": {
  "kernelspec": {
   "display_name": "Python 3 (ipykernel)",
   "language": "python",
   "name": "python3"
  },
  "language_info": {
   "codemirror_mode": {
    "name": "ipython",
    "version": 3
   },
   "file_extension": ".py",
   "mimetype": "text/x-python",
   "name": "python",
   "nbconvert_exporter": "python",
   "pygments_lexer": "ipython3",
   "version": "3.9.7"
  }
 },
 "nbformat": 4,
 "nbformat_minor": 5
}
