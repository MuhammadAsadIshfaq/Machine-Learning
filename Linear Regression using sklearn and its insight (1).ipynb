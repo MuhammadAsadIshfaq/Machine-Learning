{
 "cells": [
  {
   "cell_type": "markdown",
   "metadata": {},
   "source": [
    "## Linear Regression through sklearn and its insight"
   ]
  },
  {
   "cell_type": "code",
   "execution_count": 1,
   "metadata": {},
   "outputs": [],
   "source": [
    "import sklearn"
   ]
  },
  {
   "cell_type": "code",
   "execution_count": 2,
   "metadata": {},
   "outputs": [],
   "source": [
    "import numpy as np\n",
    "import matplotlib.pyplot as plt\n",
    "from sklearn.linear_model import LinearRegression"
   ]
  },
  {
   "cell_type": "code",
   "execution_count": 3,
   "metadata": {},
   "outputs": [],
   "source": [
    "X = [[-0.60834727],[-1.45371331],[-1.54626904],[-0.17282008],[ 0.2250689 ],\n",
    "       [-2.17785042],[-1.14561475],[-0.69247356],[ 0.38970567],[ 1.31052106],\n",
    "       [ 0.76558893],       [-0.26542221],       [-0.02746902],       [-0.42805859],       [ 1.72724477],\n",
    "       [ 0.69860211],       [-0.33981284],       [-1.3703788 ],       [ 1.62353189],       [-0.146066  ],\n",
    "       [ 0.61664969],       [-1.93449495],       [ 2.48906603],       [-3.23349907],       [ 0.22512135],\n",
    "       [ 2.5278926 ],       [-0.33396387],       [ 0.25282401],       [-0.22591363],       [ 0.17100085],\n",
    "       [-0.46367397],       [ 0.29010349],       [-1.58460717],       [-0.38259139],       [-0.67218538],\n",
    "       [ 0.0539355 ],       [-0.28362828],       [ 0.26484613],       [-0.13458161],       [-0.16794675],\n",
    "       [ 0.62985391],       [ 0.21160911],       [-1.36071361],       [-0.38999452],       [-0.17520867],\n",
    "       [ 1.17732015],       [ 0.54664128],       [-0.15694142],       [-0.68424801],       [ 0.71016151],\n",
    "       [ 1.28044202],       [ 0.10857449],       [-0.89746854],       [ 0.30035244],       [ 1.31158984],\n",
    "       [-0.75828086],       [-0.76676529],       [-1.02978116],       [-0.46450614],       [-0.09345965],\n",
    "       [-1.83489648],       [ 0.16071147],       [-1.6940688 ],       [-0.14754545],       [-0.19394552],\n",
    "       [-0.12688194],       [-1.39391014],       [ 0.35003   ],       [-0.72558668],       [-0.49705681],\n",
    "       [ 0.19802542],       [-0.66205368],       [-0.51832756],       [-0.20441062],       [ 0.83966886],\n",
    "       [-0.3548165 ],       [-1.07490421],       [-1.14034111],       [ 1.64790944],       [ 2.55042546],\n",
    "       [-0.08841425],       [-1.02628853],       [ 0.95668415],       [ 0.2463111 ],       [ 0.53306108],\n",
    "       [-0.30763363],       [ 0.13439057],       [-0.61114712],       [ 0.20275562],       [ 1.08011436],\n",
    "       [ 2.13672448],       [ 1.30538952],       [ 1.1546594 ],       [-2.14290475],       [ 0.15341923],\n",
    "       [-0.46868475],       [ 0.90644837],       [-0.47838893],       [ 2.45602369],       [-0.32855126]]\n",
    "\n",
    "y = [ -25.25598726,  -81.52662378,  -80.16772595,  -10.06539749, 6.86499339, -114.7111637 ,  \n",
    "     -57.2647762 ,  -37.20964642,\n",
    "         26.22929405,   64.77527449,   41.75329673,  -20.32893065,-2.12154947,  -20.56233987,   \n",
    "     87.70034343,   33.60897806,\n",
    "        -19.2595307 ,  -76.88199298,   79.21178416,   -6.75626181, 30.54458138, -103.57969816,  \n",
    "     128.47796563, -171.2019161 ,\n",
    "         10.76781493,  132.08409743,   -9.04429267,    8.1486204 , -1.07005875,   17.66238121,  \n",
    "     -28.17209162,   22.42720144,\n",
    "        -85.55983076,  -20.32421684,  -34.14051804,    5.17088808, -10.65376209,   12.61819027,  \n",
    "     -11.54199369,   -4.32766811,\n",
    "         29.73807977,   12.21042098,  -63.0075975 ,  -18.79156951,-8.26705678,   61.32617136,   \n",
    "     31.63714455,   -9.33661138,\n",
    "        -44.01972315,   40.55352523,   64.24321995,    7.32746056,\n",
    "        -47.13356773,   11.31757311,   65.98238668,  -35.42875215,\n",
    "        -38.67111994,  -45.66854276,  -22.38059945,   -7.47725093,\n",
    "        -91.51005968,    7.09733066,  -82.42122535,    1.50474149,\n",
    "        -13.91424424,   -8.74849709,  -71.47819723,   16.12222316,\n",
    "        -37.59332854,  -19.29274081,    4.4417863 ,  -32.34285125,\n",
    "        -23.77844553,   -8.73072296,   46.05308878,  -27.8760734 ,\n",
    "        -52.09548797,  -62.79227089,   84.92075417,  135.96178369,\n",
    "         -7.2255112 ,  -53.67716872,   51.1781027 ,    7.01480418,\n",
    "         20.85578084,  -10.02645463,   -3.73607695,  -29.36012959,\n",
    "         14.22776799,   57.70129885,  111.68766315,   67.20838735,\n",
    "         60.28805624, -106.86574462,    7.28747797,  -27.30253097,\n",
    "         48.62165866,  -29.5375383 ,  127.56158731,  -17.91772827]"
   ]
  },
  {
   "cell_type": "code",
   "execution_count": 4,
   "metadata": {},
   "outputs": [
    {
     "data": {
      "text/plain": [
       "LinearRegression()"
      ]
     },
     "execution_count": 4,
     "metadata": {},
     "output_type": "execute_result"
    }
   ],
   "source": [
    "model = LinearRegression()\n",
    "\n",
    "model.fit(X, y)"
   ]
  },
  {
   "cell_type": "code",
   "execution_count": 5,
   "metadata": {},
   "outputs": [
    {
     "data": {
      "text/plain": [
       "array([7.46973389])"
      ]
     },
     "execution_count": 5,
     "metadata": {},
     "output_type": "execute_result"
    }
   ],
   "source": [
    "model.predict([[0.14341923]])"
   ]
  },
  {
   "cell_type": "code",
   "execution_count": 8,
   "metadata": {},
   "outputs": [
    {
     "data": {
      "text/plain": [
       "array([ -31.41355596,  -75.13805389,  -79.92527343,   -8.88697362,\n",
       "         11.69286406, -112.59228089,  -59.20240683,  -35.76478327,\n",
       "         20.2082997 ,   67.83523136,   39.64994515,  -13.67659308,\n",
       "         -1.36904432,  -22.08856343,   89.38924953,   36.18521516,\n",
       "        -17.5242671 ,  -70.82777948,   84.02495361,   -7.50318404,\n",
       "         31.94642598, -100.00531236,  128.79259735, -167.19313428,\n",
       "         11.69557691,  130.80080704,  -17.22174338,   13.12842948,\n",
       "        -11.63310808,    8.89632596,  -23.93068215,   15.05661971,\n",
       "        -81.90821976,  -19.73688333,  -34.71542661,    2.84140607,\n",
       "        -14.61825768,   13.75024433,   -6.90918196,   -8.6349125 ,\n",
       "         32.62938208,   10.99668923,  -70.32787108,  -20.11979218,\n",
       "         -9.01051761,   60.94573895,   28.32541162,   -8.06568863,\n",
       "        -35.33933674,   36.78309695,   66.27946633,    5.66747465,\n",
       "        -46.36764895,   15.58672167,   67.8905114 ,  -39.16850546,\n",
       "        -39.60734192,  -53.21119672,  -23.97372411,   -4.78224881,\n",
       "        -94.85382426,    8.36413286,  -87.56985577,   -7.57970498,\n",
       "         -9.97963551,   -6.51093529,  -72.04488069,   18.15617238,\n",
       "        -37.47747869,  -25.65732818,   10.29410597,  -34.19138912,\n",
       "        -26.75750588,  -10.5209173 ,   43.48154897,  -18.30029484,\n",
       "        -55.5450765 ,  -58.92964066,   85.28582296,  131.9662643 ,\n",
       "         -4.52128779,  -53.03054895,   49.53387963,   12.79156508,\n",
       "         27.62300887,  -15.85987589,    7.00274846,  -31.55837138,\n",
       "         10.53876404,   55.91800639,  110.56858947,   67.56981496,\n",
       "         59.77366689, -110.78480129,    7.98695952,  -24.18985253,\n",
       "         46.93555635,  -24.69177759,  127.08356285,  -16.94178932])"
      ]
     },
     "execution_count": 8,
     "metadata": {},
     "output_type": "execute_result"
    }
   ],
   "source": [
    "predictions = model.predict(X)\n",
    "predictions"
   ]
  },
  {
   "cell_type": "code",
   "execution_count": 16,
   "metadata": {},
   "outputs": [
    {
     "data": {
      "text/plain": [
       "array([51.7225626])"
      ]
     },
     "execution_count": 16,
     "metadata": {},
     "output_type": "execute_result"
    }
   ],
   "source": [
    "model.coef_"
   ]
  },
  {
   "cell_type": "code",
   "execution_count": 17,
   "metadata": {},
   "outputs": [
    {
     "data": {
      "text/plain": [
       "0.05172379097182578"
      ]
     },
     "execution_count": 17,
     "metadata": {},
     "output_type": "execute_result"
    }
   ],
   "source": [
    "model.intercept_"
   ]
  },
  {
   "cell_type": "code",
   "execution_count": null,
   "metadata": {},
   "outputs": [],
   "source": []
  },
  {
   "cell_type": "code",
   "execution_count": 20,
   "metadata": {},
   "outputs": [
    {
     "data": {
      "text/plain": [
       "<matplotlib.collections.PathCollection at 0x1c3c052fa30>"
      ]
     },
     "execution_count": 20,
     "metadata": {},
     "output_type": "execute_result"
    },
    {
     "data": {
      "image/png": "[encoded data removed]",
      "text/plain": [
       "<Figure size 432x288 with 1 Axes>"
      ]
     },
     "metadata": {
      "needs_background": "light"
     },
     "output_type": "display_data"
    }
   ],
   "source": [
    "a = np.linspace(-3,3,100)\n",
    "m = model.coef_\n",
    "b = model.intercept_\n",
    "y_1 = m*a + b\n",
    "plt.plot(a, y_1)\n",
    "plt.scatter(X, y)"
   ]
  },
  {
   "cell_type": "code",
   "execution_count": 9,
   "metadata": {},
   "outputs": [
    {
     "name": "stdout",
     "output_type": "stream",
     "text": [
      "3.2675330578686146\n"
     ]
    }
   ],
   "source": [
    "from sklearn.metrics import mean_absolute_error\n",
    "from sklearn.metrics import mean_squared_error\n",
    "\n",
    "print(mean_absolute_error(y, predictions))"
   ]
  },
  {
   "cell_type": "code",
   "execution_count": 10,
   "metadata": {},
   "outputs": [
    {
     "name": "stdout",
     "output_type": "stream",
     "text": [
      "17.186211097841593\n"
     ]
    }
   ],
   "source": [
    "print(mean_squared_error(y, predictions))"
   ]
  }
 ],
 "metadata": {
  "kernelspec": {
   "display_name": "Python 3 (ipykernel)",
   "language": "python",
   "name": "python3"
  },
  "language_info": {
   "codemirror_mode": {
    "name": "ipython",
    "version": 3
   },
   "file_extension": ".py",
   "mimetype": "text/x-python",
   "name": "python",
   "nbconvert_exporter": "python",
   "pygments_lexer": "ipython3",
   "version": "3.9.7"
  }
 },
 "nbformat": 4,
 "nbformat_minor": 4
}
