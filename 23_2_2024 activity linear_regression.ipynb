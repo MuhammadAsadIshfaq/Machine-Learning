{
 "cells": [
  {
   "cell_type": "code",
   "execution_count": 1,
   "id": "cd876b53",
   "metadata": {},
   "outputs": [],
   "source": [
    "import pandas as pd\n",
    "import numpy as np\n",
    "import matplotlib.pyplot as plt"
   ]
  },
  {
   "cell_type": "code",
   "execution_count": 2,
   "id": "9f3ec0ed",
   "metadata": {},
   "outputs": [],
   "source": [
    "from sklearn.model_selection import train_test_split"
   ]
  },
  {
   "cell_type": "code",
   "execution_count": null,
   "id": "395f4d51",
   "metadata": {},
   "outputs": [],
   "source": [
    "class linear_regression(self):\n",
    "    def __init__(self,learning_rate,no_of_iterations):\n",
    "        self.learning_rate = learning_rate\n",
    "        self.no_of_iteration=no_of_iteration\n",
    "        \n",
    "        \n",
    "    def fit(self,X,Y):\n",
    "        self.r, self.c = X.shape()\n",
    "        self.w = np.zeros(self.c)\n",
    "        \n",
    "        \n",
    "        \n",
    "    def update_weight():\n",
    "        dw = -2 *\n",
    "        db = -2 *\n",
    "        \n",
    "        \n",
    "        \n",
    "    def predict(self,X):\n",
    "        pred = self.m.dot(X)+self.b\n",
    "        return pred"
   ]
  }
 ],
 "metadata": {
  "kernelspec": {
   "display_name": "Python 3 (ipykernel)",
   "language": "python",
   "name": "python3"
  },
  "language_info": {
   "codemirror_mode": {
    "name": "ipython",
    "version": 3
   },
   "file_extension": ".py",
   "mimetype": "text/x-python",
   "name": "python",
   "nbconvert_exporter": "python",
   "pygments_lexer": "ipython3",
   "version": "3.9.7"
  }
 },
 "nbformat": 4,
 "nbformat_minor": 5
}
