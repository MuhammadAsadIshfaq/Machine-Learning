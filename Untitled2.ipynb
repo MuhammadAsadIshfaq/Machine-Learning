{
 "cells": [
  {
   "cell_type": "code",
   "execution_count": 2,
   "id": "66af7c1e",
   "metadata": {},
   "outputs": [
    {
     "name": "stdout",
     "output_type": "stream",
     "text": [
      "[ 1 -1 -1  1]\n",
      "4\n",
      "4\n",
      "[[          2           2          10          10]\n",
      " [          0           0           0  1073741824]\n",
      " [          0 -1073741824           0           0]\n",
      " [          0           0           0 -1073741824]]\n",
      "[[          2           2          10          10]\n",
      " [         10           2           2          10]\n",
      " [          0 -1073741824           0           0]\n",
      " [          0           0           0 -1073741824]]\n",
      "[[          2           2          10          10]\n",
      " [         10           2           2          10]\n",
      " [         10          10           2           2]\n",
      " [          0           0           0 -1073741824]]\n",
      "[[ 2  2 10 10]\n",
      " [10  2  2 10]\n",
      " [10 10  2  2]\n",
      " [ 2 10 10  2]]\n",
      "[2 2 2 2]\n",
      "(array([0, 1, 2, 3], dtype=int64),)\n",
      "[array([ 2,  0, -2,  0]), [array([ 0,  2,  0, -2])]]\n",
      "4\n",
      "[[          2          10          10           2]\n",
      " [          0           0           0  1073741824]\n",
      " [          0 -1073741824           0           0]\n",
      " [          0           0           0 -1073741824]]\n",
      "[[          2          10          10           2]\n",
      " [          2           2          10          10]\n",
      " [          0 -1073741824           0           0]\n",
      " [          0           0           0 -1073741824]]\n",
      "[[          2          10          10           2]\n",
      " [          2           2          10          10]\n",
      " [         10           2           2          10]\n",
      " [          0           0           0 -1073741824]]\n",
      "[[ 2 10 10  2]\n",
      " [ 2  2 10 10]\n",
      " [10  2  2 10]\n",
      " [10 10  2  2]]\n",
      "[2 2 2 2]\n",
      "(array([0, 1, 2, 3], dtype=int64),)\n",
      "[array([ 1, -1, -1,  1]), [array([ 1,  1, -1, -1])]]\n"
     ]
    },
    {
     "data": {
      "text/plain": [
       "<matplotlib.collections.PathCollection at 0x254b70345e0>"
      ]
     },
     "execution_count": 2,
     "metadata": {},
     "output_type": "execute_result"
    },
    {
     "data": {
      "image/png": "[encoded data removed]",
      "text/plain": [
       "<Figure size 432x288 with 1 Axes>"
      ]
     },
     "metadata": {
      "needs_background": "light"
     },
     "output_type": "display_data"
    }
   ],
   "source": [
    "import matplotlib.pyplot as plt\n",
    "import numpy as np\n",
    "Negative_Class = np.array([[1, 1], [-1, 1], [-1, -1], [1,-1]])\n",
    "Positive_Class = np.array([[2, 0], [0, 2], [-2, 0], [0, -2]])\n",
    "print(Negative_Class[:,0])\n",
    "\n",
    "\n",
    "plt.scatter(\n",
    "    Negative_Class[:,0],\n",
    "    Negative_Class[:,1],\n",
    ")\n",
    "\n",
    "plt.scatter(\n",
    "    Positive_Class[:,0],\n",
    "    Positive_Class[:,1],\n",
    "    marker=\"d\",\n",
    ")\n",
    "\n",
    "length=len(Negative_Class)\n",
    "print(length)\n",
    "Dist = np.empty((length,length), int)\n",
    "\n",
    "print(length)\n",
    "for x in range(length):\n",
    "  Dist[x]=pow((Positive_Class[:,0] - Negative_Class[x][0]),2) + pow((Positive_Class[:,1] - Negative_Class[x][1]),2)\n",
    "  print(Dist) \n",
    "\n",
    "Min_Dist=np.min(Dist, axis=0)\n",
    "print(Min_Dist)\n",
    "\n",
    "Min_Ind=np.nonzero(Min_Dist == np.min(Min_Dist))\n",
    "print(Min_Ind)\n",
    "\n",
    "Support_Vector_Positive=[Positive_Class[:,0][Min_Ind],[Positive_Class[:,1][Min_Ind]]]\n",
    "\n",
    "print(Support_Vector_Positive)\n",
    "\n",
    "\n",
    "plt.scatter(\n",
    "    Support_Vector_Positive[0],\n",
    "    Support_Vector_Positive[1],c =\"red\",\n",
    "            linewidths = 2,\n",
    "            marker =\"s\", \n",
    "            edgecolor =\"green\",\n",
    "\ts=200,\n",
    ")\n",
    "\n",
    "\n",
    "length=len(Positive_Class)\n",
    "\n",
    "Dist = np.empty((length,length), int)\n",
    "\n",
    "print(length)\n",
    "for x in range(length):\n",
    "  Dist[x]=pow((Negative_Class[:,0] - Positive_Class[x][0]),2) + pow((Negative_Class[:,1] - Positive_Class[x][1]),2)\n",
    "  print(Dist) \n",
    "\n",
    "Min_Dist=np.min(Dist, axis=0)\n",
    "print(Min_Dist)\n",
    "\n",
    "Min_Ind=np.nonzero(Min_Dist == np.min(Min_Dist))\n",
    "print(Min_Ind)\n",
    "\n",
    "Support_Vector_Negative=[Negative_Class[:,0][Min_Ind[0]],[Negative_Class[:,1][Min_Ind[0]]]]\n",
    "\n",
    "print(Support_Vector_Negative)\n",
    "\n",
    "plt.scatter(\n",
    "    Support_Vector_Negative[0],\n",
    "    Support_Vector_Negative[1],c =\"yellow\",\n",
    "            linewidths = 2,\n",
    "            marker =\"^\", \n",
    "            edgecolor =\"red\",\n",
    "\ts=200,\n",
    ")"
   ]
  },
  {
   "cell_type": "code",
   "execution_count": null,
   "id": "ebb6763a",
   "metadata": {},
   "outputs": [],
   "source": []
  },
  {
   "cell_type": "code",
   "execution_count": null,
   "id": "a5af9894",
   "metadata": {},
   "outputs": [],
   "source": []
  }
 ],
 "metadata": {
  "kernelspec": {
   "display_name": "Python 3 (ipykernel)",
   "language": "python",
   "name": "python3"
  },
  "language_info": {
   "codemirror_mode": {
    "name": "ipython",
    "version": 3
   },
   "file_extension": ".py",
   "mimetype": "text/x-python",
   "name": "python",
   "nbconvert_exporter": "python",
   "pygments_lexer": "ipython3",
   "version": "3.9.7"
  }
 },
 "nbformat": 4,
 "nbformat_minor": 5
}
