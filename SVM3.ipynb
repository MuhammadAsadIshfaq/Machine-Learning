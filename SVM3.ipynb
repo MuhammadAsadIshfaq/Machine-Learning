{
 "cells": [
  {
   "cell_type": "code",
   "execution_count": 2,
   "id": "4596b908",
   "metadata": {},
   "outputs": [],
   "source": [
    "# import matplotlib.pyplot as plt\n",
    "# import numpy as np\n",
    "# Negative_Class = np.array([[1, 1],[2, 1],[1,-1], [2,-1]])\n",
    "# Positive_Class = np.array([[4,0],[5,1],[5,-1],[6,0]])\n",
    "# # print(Negative_Class[:,0])"
   ]
  },
  {
   "cell_type": "code",
   "execution_count": 26,
   "id": "15b4a466",
   "metadata": {},
   "outputs": [],
   "source": [
    "def plot_points(Negative_Class,Positive_Class):\n",
    "    plt.scatter(Negative_Class[:,0],Negative_Class[:,1],)\n",
    "    plt.scatter(Positive_Class[:,0],Positive_Class[:,1],marker=\"d\",)"
   ]
  },
  {
   "cell_type": "code",
   "execution_count": 27,
   "id": "fc86fd64",
   "metadata": {},
   "outputs": [],
   "source": [
    "import matplotlib.pyplot as plt\n",
    "import numpy as np\n",
    "\n",
    "def plot_points(class_data, marker='o', color='blue', label=None):\n",
    "    plt.scatter(\n",
    "        class_data[:, 0],\n",
    "        class_data[:, 1],\n",
    "        marker=marker,\n",
    "        color=color,\n",
    "        label=label\n",
    "    )\n",
    "\n",
    "def calculate_distances(class1, class2):\n",
    "    length = len(class1)\n",
    "    distances = np.empty((length, length), int)\n",
    "\n",
    "    for x in range(length):\n",
    "        distances[x] = np.sum((class2[:, 0] - class1[x][0])**2 + (class2[:, 1] - class1[x][1])**2, axis=0)\n",
    "\n",
    "    return distances"
   ]
  },
  {
   "cell_type": "code",
   "execution_count": 28,
   "id": "cd44ab60",
   "metadata": {},
   "outputs": [],
   "source": [
    "def find_support_vector(class1, class2):\n",
    "    distances = calculate_distances(class1, class2)\n",
    "    min_dist = np.min(distances, axis=0)\n",
    "    min_ind = np.nonzero(min_dist == np.min(min_dist))\n",
    "    support_vector = [class2[:, 0][min_ind], class2[:, 1][min_ind]]\n",
    "\n",
    "    return support_vector"
   ]
  },
  {
   "cell_type": "code",
   "execution_count": 29,
   "id": "db6f1fa0",
   "metadata": {},
   "outputs": [],
   "source": [
    "def plot_support_vector(support_vector, marker='o', color='blue', edgecolor='green', label=None):\n",
    "    plt.scatter(\n",
    "        support_vector[0],\n",
    "        support_vector[1],\n",
    "        marker=marker,\n",
    "        color=color,\n",
    "        linewidths=2,\n",
    "        edgecolor=edgecolor,\n",
    "        s=200,\n",
    "        label=label\n",
    "    )\n"
   ]
  },
  {
   "cell_type": "code",
   "execution_count": 30,
   "id": "52b16935",
   "metadata": {},
   "outputs": [],
   "source": [
    "# Data\n",
    "Negative_Class = np.array([[1, 0], [0, 1], [0, -1], [-1,0]])\n",
    "Positive_Class = np.array([[3, 1], [3, -1], [6, 1], [6, -1]])"
   ]
  },
  {
   "cell_type": "code",
   "execution_count": 31,
   "id": "558c587a",
   "metadata": {},
   "outputs": [
    {
     "data": {
      "image/png": "[encoded data removed]",
      "text/plain": [
       "<Figure size 432x288 with 1 Axes>"
      ]
     },
     "metadata": {
      "needs_background": "light"
     },
     "output_type": "display_data"
    }
   ],
   "source": [
    "# Plotting\n",
    "plot_points(Negative_Class, label='Negative Class')\n",
    "plot_points(Positive_Class, marker='d', label='Positive Class')"
   ]
  },
  {
   "cell_type": "code",
   "execution_count": 32,
   "id": "c2a07b45",
   "metadata": {},
   "outputs": [
    {
     "data": {
      "image/png": "[encoded data removed]",
      "text/plain": [
       "<Figure size 432x288 with 1 Axes>"
      ]
     },
     "metadata": {
      "needs_background": "light"
     },
     "output_type": "display_data"
    }
   ],
   "source": [
    "# Support Vectors for Positive Class\n",
    "support_vector_positive = find_support_vector(Negative_Class, Positive_Class)\n",
    "plot_support_vector(support_vector_positive, marker='s', color='red', edgecolor='green', label='Support Vector Positive')\n",
    "\n",
    "# Support Vectors for Negative Class\n",
    "support_vector_negative = find_support_vector(Positive_Class, Negative_Class)\n",
    "plot_support_vector(support_vector_negative, marker='^', color='yellow', edgecolor='red', label='Support Vector Negative')\n",
    "\n",
    "# Show the plot\n",
    "plt.legend()\n",
    "plt.show()"
   ]
  },
  {
   "cell_type": "code",
   "execution_count": 42,
   "id": "4dd7bb05",
   "metadata": {},
   "outputs": [
    {
     "ename": "ValueError",
     "evalue": "The truth value of an array with more than one element is ambiguous. Use a.any() or a.all()",
     "output_type": "error",
     "traceback": [
      "\u001b[1;31m---------------------------------------------------------------------------\u001b[0m",
      "\u001b[1;31mValueError\u001b[0m                                Traceback (most recent call last)",
      "\u001b[1;32mC:\\Users\\HP840G~1\\AppData\\Local\\Temp/ipykernel_10868/683969556.py\u001b[0m in \u001b[0;36m<module>\u001b[1;34m\u001b[0m\n\u001b[0;32m     10\u001b[0m \u001b[0mnegative_Class\u001b[0m \u001b[1;33m=\u001b[0m \u001b[0mnp\u001b[0m\u001b[1;33m.\u001b[0m\u001b[0marray\u001b[0m\u001b[1;33m(\u001b[0m\u001b[1;33m[\u001b[0m\u001b[1;33m[\u001b[0m\u001b[1;36m1\u001b[0m\u001b[1;33m,\u001b[0m \u001b[1;36m1\u001b[0m\u001b[1;33m]\u001b[0m\u001b[1;33m,\u001b[0m \u001b[1;33m[\u001b[0m\u001b[1;33m-\u001b[0m\u001b[1;36m1\u001b[0m\u001b[1;33m,\u001b[0m \u001b[1;36m1\u001b[0m\u001b[1;33m]\u001b[0m\u001b[1;33m,\u001b[0m \u001b[1;33m[\u001b[0m\u001b[1;33m-\u001b[0m\u001b[1;36m1\u001b[0m\u001b[1;33m,\u001b[0m \u001b[1;33m-\u001b[0m\u001b[1;36m1\u001b[0m\u001b[1;33m]\u001b[0m\u001b[1;33m,\u001b[0m \u001b[1;33m[\u001b[0m\u001b[1;36m1\u001b[0m\u001b[1;33m,\u001b[0m\u001b[1;33m-\u001b[0m\u001b[1;36m1\u001b[0m\u001b[1;33m]\u001b[0m\u001b[1;33m]\u001b[0m\u001b[1;33m)\u001b[0m\u001b[1;33m\u001b[0m\u001b[1;33m\u001b[0m\u001b[0m\n\u001b[0;32m     11\u001b[0m \u001b[0mpositive_Class\u001b[0m \u001b[1;33m=\u001b[0m \u001b[0mnp\u001b[0m\u001b[1;33m.\u001b[0m\u001b[0marray\u001b[0m\u001b[1;33m(\u001b[0m\u001b[1;33m[\u001b[0m\u001b[1;33m[\u001b[0m\u001b[1;36m2\u001b[0m\u001b[1;33m,\u001b[0m \u001b[1;36m0\u001b[0m\u001b[1;33m]\u001b[0m\u001b[1;33m,\u001b[0m \u001b[1;33m[\u001b[0m\u001b[1;36m0\u001b[0m\u001b[1;33m,\u001b[0m \u001b[1;36m2\u001b[0m\u001b[1;33m]\u001b[0m\u001b[1;33m,\u001b[0m \u001b[1;33m[\u001b[0m\u001b[1;33m-\u001b[0m\u001b[1;36m2\u001b[0m\u001b[1;33m,\u001b[0m \u001b[1;36m0\u001b[0m\u001b[1;33m]\u001b[0m\u001b[1;33m,\u001b[0m \u001b[1;33m[\u001b[0m\u001b[1;36m0\u001b[0m\u001b[1;33m,\u001b[0m \u001b[1;33m-\u001b[0m\u001b[1;36m2\u001b[0m\u001b[1;33m]\u001b[0m\u001b[1;33m]\u001b[0m\u001b[1;33m)\u001b[0m\u001b[1;33m\u001b[0m\u001b[1;33m\u001b[0m\u001b[0m\n\u001b[1;32m---> 12\u001b[1;33m \u001b[0mtransformed_values\u001b[0m \u001b[1;33m=\u001b[0m \u001b[0mTransformation\u001b[0m\u001b[1;33m(\u001b[0m\u001b[0mpositive_Class\u001b[0m\u001b[1;33m,\u001b[0m \u001b[0mnegative_Class\u001b[0m\u001b[1;33m)\u001b[0m\u001b[1;33m\u001b[0m\u001b[1;33m\u001b[0m\u001b[0m\n\u001b[0m\u001b[0;32m     13\u001b[0m \u001b[0mprint\u001b[0m\u001b[1;33m(\u001b[0m\u001b[0mtransformed_values\u001b[0m\u001b[1;33m)\u001b[0m\u001b[1;33m\u001b[0m\u001b[1;33m\u001b[0m\u001b[0m\n",
      "\u001b[1;32mC:\\Users\\HP840G~1\\AppData\\Local\\Temp/ipykernel_10868/683969556.py\u001b[0m in \u001b[0;36mTransformation\u001b[1;34m(x1, x2)\u001b[0m\n\u001b[0;32m      3\u001b[0m \u001b[1;32mdef\u001b[0m \u001b[0mTransformation\u001b[0m\u001b[1;33m(\u001b[0m\u001b[0mx1\u001b[0m\u001b[1;33m,\u001b[0m \u001b[0mx2\u001b[0m\u001b[1;33m)\u001b[0m\u001b[1;33m:\u001b[0m\u001b[1;33m\u001b[0m\u001b[1;33m\u001b[0m\u001b[0m\n\u001b[0;32m      4\u001b[0m     \u001b[0mtrans\u001b[0m \u001b[1;33m=\u001b[0m \u001b[0mnp\u001b[0m\u001b[1;33m.\u001b[0m\u001b[0msqrt\u001b[0m\u001b[1;33m(\u001b[0m\u001b[0mx1\u001b[0m\u001b[1;33m**\u001b[0m\u001b[1;36m2\u001b[0m \u001b[1;33m+\u001b[0m \u001b[0mx2\u001b[0m\u001b[1;33m**\u001b[0m\u001b[1;36m2\u001b[0m\u001b[1;33m)\u001b[0m\u001b[1;33m\u001b[0m\u001b[1;33m\u001b[0m\u001b[0m\n\u001b[1;32m----> 5\u001b[1;33m     \u001b[1;32mif\u001b[0m \u001b[0mtrans\u001b[0m \u001b[1;33m>=\u001b[0m \u001b[1;36m2\u001b[0m\u001b[1;33m:\u001b[0m\u001b[1;33m\u001b[0m\u001b[1;33m\u001b[0m\u001b[0m\n\u001b[0m\u001b[0;32m      6\u001b[0m         \u001b[0mresult1\u001b[0m \u001b[1;33m=\u001b[0m \u001b[1;36m6\u001b[0m \u001b[1;33m-\u001b[0m \u001b[0mx1\u001b[0m \u001b[1;33m+\u001b[0m \u001b[1;33m(\u001b[0m\u001b[1;33m(\u001b[0m\u001b[0mx1\u001b[0m\u001b[1;33m)\u001b[0m \u001b[1;33m-\u001b[0m \u001b[1;33m(\u001b[0m\u001b[0mx2\u001b[0m\u001b[1;33m)\u001b[0m\u001b[1;33m)\u001b[0m\u001b[1;33m**\u001b[0m\u001b[1;36m2\u001b[0m\u001b[1;33m\u001b[0m\u001b[1;33m\u001b[0m\u001b[0m\n\u001b[0;32m      7\u001b[0m         \u001b[0mresult2\u001b[0m \u001b[1;33m=\u001b[0m \u001b[1;36m6\u001b[0m \u001b[1;33m-\u001b[0m \u001b[0mx2\u001b[0m \u001b[1;33m+\u001b[0m \u001b[1;33m(\u001b[0m\u001b[1;33m(\u001b[0m\u001b[0mx1\u001b[0m\u001b[1;33m)\u001b[0m \u001b[1;33m-\u001b[0m \u001b[1;33m(\u001b[0m\u001b[0mx2\u001b[0m\u001b[1;33m)\u001b[0m\u001b[1;33m)\u001b[0m\u001b[1;33m**\u001b[0m\u001b[1;36m2\u001b[0m\u001b[1;33m\u001b[0m\u001b[1;33m\u001b[0m\u001b[0m\n",
      "\u001b[1;31mValueError\u001b[0m: The truth value of an array with more than one element is ambiguous. Use a.any() or a.all()"
     ]
    }
   ],
   "source": [
    "import numpy as np\n",
    "\n",
    "def Transformation(x1, x2):\n",
    "    trans = np.sqrt(x1**2 + x2**2)\n",
    "    if trans >= 2:\n",
    "        result1 = 6 - x1 + ((x1) - (x2))**2\n",
    "        result2 = 6 - x2 + ((x1) - (x2))**2\n",
    "        return [result1, result2]\n",
    "\n",
    "negative_Class = np.array([[1, 1], [-1, 1], [-1, -1], [1,-1]])\n",
    "positive_Class = np.array([[2, 0], [0, 2], [-2, 0], [0, -2]])\n",
    "transformed_values = Transformation(positive_Class, negative_Class)\n",
    "print(transformed_values)"
   ]
  },
  {
   "cell_type": "code",
   "execution_count": null,
   "id": "cb7ca7bc",
   "metadata": {},
   "outputs": [],
   "source": [
    "import numpy as np\n",
    "\n",
    "def transform_data(positive_class, negative_class):\n",
    "    transformed_positive = []\n",
    "    transformed_negative = []\n",
    "    \n",
    "    for point in positive_class.T:\n",
    "        x1, x2 = point\n",
    "        if np.sqrt(x1*2 + x2*2) >= 2:\n",
    "            transformed_positive.append([6 - x1 + (x1 - x2)*2, 6 - x2 + (x1 - x2)*2])\n",
    "        else:\n",
    "            transformed_positive.append([x1, x2])\n",
    "    \n",
    "    for point in negative_class.T:\n",
    "        x1, x2 = point\n",
    "        if np.sqrt(x1*2 + x2*2) >= 2:\n",
    "            transformed_negative.append([6 - x1 + (x1 - x2)*2, 6 - x2 + (x1 - x2)*2])\n",
    "        else:\n",
    "            transformed_negative.append([x1, x2])\n",
    "    \n",
    "    return np.array(transformed_positive).T, np.array(transformed_negative).T\n",
    "\n",
    "# Original data\n",
    "Negative_Class = np.array([[1, -1, -1, 1], [1, 1, -1, -1]])\n",
    "Positive_Class = np.array([[2, 0, -2, 0], [0, 2, 0, -2]])\n",
    "\n",
    "# Transform the data\n",
    "transformed_positive, transformed_negative = transform_data(Positive_Class, Negative_Class)\n",
    "\n",
    "print(\"Transformed Positive Class:\")\n",
    "print(transformed_positive)\n",
    "print(\"Transformed Negative Class:\")\n",
    "print(transformed_negative)"
   ]
  }
 ],
 "metadata": {
  "kernelspec": {
   "display_name": "Python 3 (ipykernel)",
   "language": "python",
   "name": "python3"
  },
  "language_info": {
   "codemirror_mode": {
    "name": "ipython",
    "version": 3
   },
   "file_extension": ".py",
   "mimetype": "text/x-python",
   "name": "python",
   "nbconvert_exporter": "python",
   "pygments_lexer": "ipython3",
   "version": "3.9.7"
  }
 },
 "nbformat": 4,
 "nbformat_minor": 5
}
